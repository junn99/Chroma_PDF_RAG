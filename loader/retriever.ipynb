{
 "cells": [
  {
   "cell_type": "markdown",
   "metadata": {},
   "source": [
    "### 기본 Retriever에서 여러 테스트를 하기 위함"
   ]
  },
  {
   "cell_type": "code",
   "execution_count": 3,
   "metadata": {},
   "outputs": [],
   "source": [
    "import os\n",
    "import nest_asyncio\n",
    "from dotenv import load_dotenv\n",
    "\n",
    "load_dotenv()\n",
    "nest_asyncio.apply()"
   ]
  },
  {
   "cell_type": "code",
   "execution_count": 5,
   "metadata": {},
   "outputs": [],
   "source": [
    "data_path = \"/home/jun/my_project/langchain_tutorial/Langcahin_Tutoraial/data/약관-48-51.pdf\""
   ]
  },
  {
   "cell_type": "markdown",
   "metadata": {},
   "source": [
    "# Chroma"
   ]
  },
  {
   "cell_type": "code",
   "execution_count": 4,
   "metadata": {},
   "outputs": [],
   "source": [
    "from llama_parse import LlamaParse\n",
    "from llama_index.core import SimpleDirectoryReader\n",
    "from langchain_text_splitters import RecursiveCharacterTextSplitter\n",
    "from langchain_community.embeddings import HuggingFaceBgeEmbeddings\n",
    "from langchain_chroma import Chroma\n",
    "\n",
    "\n",
    "def create_retriever(file_path):\n",
    "    # 단계 1: 문서 로드(Load Documents)\n",
    "    # 파서 설정\n",
    "    parser = LlamaParse(\n",
    "        result_type=\"markdown\",  # \"markdown\"과 \"text\" 사용 가능\n",
    "        num_workers=8,  # worker 수 (기본값: 4)\n",
    "        verbose=True,\n",
    "        language=\"ko\",\n",
    "    )\n",
    "    # SimpleDirectoryReader를 사용하여 파일 파싱\n",
    "    file_extractor = {\".pdf\": parser}\n",
    "\n",
    "    # LlamaParse로 파일 파싱\n",
    "    documents = SimpleDirectoryReader(\n",
    "        input_files=[file_path],\n",
    "        file_extractor=file_extractor,\n",
    "    ).load_data()\n",
    "\n",
    "    # 랭체인 도큐먼트로 변환\n",
    "    docs = [doc.to_langchain_format() for doc in documents]\n",
    "\n",
    "    # 단계 2: 문서 분할(Split Documents)\n",
    "    text_splitter = RecursiveCharacterTextSplitter(chunk_size=1000, chunk_overlap=100)\n",
    "    split_documents = text_splitter.split_documents(docs)\n",
    "\n",
    "    # 단계 3: 임베딩(Embedding) 생성\n",
    "    model_name = \"BAAI/bge-m3\"\n",
    "    model_kwargs = {\"device\":\"cpu\"}\n",
    "    encode_kwargs = {\"normalize_embeddings\":True}\n",
    "\n",
    "    embeddings = HuggingFaceBgeEmbeddings(\n",
    "        model_name=model_name, model_kwargs=model_kwargs,encode_kwargs=encode_kwargs)\n",
    "\n",
    "    # 단계 4: DB 생성(Create DB) 및 저장\n",
    "    # 벡터스토어를 생성합니다.\n",
    "        # 이게 데모용(FAISS)으로 빠르게 확인하기 좋아서 쓰는거지, 다른걸로 꼭 봐꿔줘야 함\n",
    "    vectorstore = Chroma.from_documents(documents=split_documents, embedding=embeddings)\n",
    "\n",
    "    # 단계 5: 검색기(Retriever) 생성\n",
    "    # 문서에 포함되어 있는 정보를 검색하고 생성합니다.\n",
    "    retriever = vectorstore.as_retriever(search_kwargs={\"k\": 2})\n",
    "    return retriever"
   ]
  },
  {
   "cell_type": "code",
   "execution_count": 7,
   "metadata": {},
   "outputs": [
    {
     "name": "stdout",
     "output_type": "stream",
     "text": [
      "Started parsing the file under job_id 8eabe9a4-15dd-4478-b100-a7ea7e2d3266\n",
      "CPU times: user 1min 21s, sys: 3.7 s, total: 1min 25s\n",
      "Wall time: 21.2 s\n"
     ]
    }
   ],
   "source": [
    "%%time\n",
    "chroma_retriever = create_retriever(data_path)"
   ]
  },
  {
   "cell_type": "code",
   "execution_count": 12,
   "metadata": {},
   "outputs": [],
   "source": [
    "qa = chroma_retriever.invoke(\"간병인지원 상해입원비의\")\n",
    "print(qa)"
   ]
  },
  {
   "cell_type": "markdown",
   "metadata": {},
   "source": [
    "# FAISS"
   ]
  },
  {
   "cell_type": "code",
   "execution_count": 9,
   "metadata": {},
   "outputs": [],
   "source": [
    "from llama_parse import LlamaParse\n",
    "from llama_index.core import SimpleDirectoryReader\n",
    "from langchain_text_splitters import RecursiveCharacterTextSplitter\n",
    "from langchain_community.embeddings import HuggingFaceBgeEmbeddings\n",
    "from langchain_community.vectorstores import FAISS\n",
    "\n",
    "\n",
    "def create_retriever(file_path):\n",
    "    # 단계 1: 문서 로드(Load Documents)\n",
    "    # 파서 설정\n",
    "    parser = LlamaParse(\n",
    "        result_type=\"markdown\",  # \"markdown\"과 \"text\" 사용 가능\n",
    "        num_workers=8,  # worker 수 (기본값: 4)\n",
    "        verbose=True,\n",
    "        language=\"ko\",\n",
    "    )\n",
    "    # SimpleDirectoryReader를 사용하여 파일 파싱\n",
    "    file_extractor = {\".pdf\": parser}\n",
    "\n",
    "    # LlamaParse로 파일 파싱\n",
    "    documents = SimpleDirectoryReader(\n",
    "        input_files=[file_path],\n",
    "        file_extractor=file_extractor,\n",
    "    ).load_data()\n",
    "\n",
    "    # 랭체인 도큐먼트로 변환\n",
    "    docs = [doc.to_langchain_format() for doc in documents]\n",
    "\n",
    "    # 단계 2: 문서 분할(Split Documents)\n",
    "    text_splitter = RecursiveCharacterTextSplitter(chunk_size=1000, chunk_overlap=100)\n",
    "    split_documents = text_splitter.split_documents(docs)\n",
    "\n",
    "    # 단계 3: 임베딩(Embedding) 생성\n",
    "    model_name = \"BAAI/bge-m3\"\n",
    "    model_kwargs = {\"device\":\"cpu\"}\n",
    "    encode_kwargs = {\"normalize_embeddings\":True}\n",
    "\n",
    "    embeddings = HuggingFaceBgeEmbeddings(\n",
    "        model_name=model_name, model_kwargs=model_kwargs,encode_kwargs=encode_kwargs)\n",
    "\n",
    "    # 단계 4: DB 생성(Create DB) 및 저장\n",
    "    # 벡터스토어를 생성합니다.\n",
    "        # 이게 데모용(FAISS)으로 빠르게 확인하기 좋아서 쓰는거지, 다른걸로 꼭 봐꿔줘야 함\n",
    "    vectorstore = FAISS.from_documents(documents=split_documents, embedding=embeddings)\n",
    "\n",
    "    # 단계 5: 검색기(Retriever) 생성\n",
    "    # 문서에 포함되어 있는 정보를 검색하고 생성합니다.\n",
    "    retriever = vectorstore.as_retriever(search_kwargs={\"k\": 2})\n",
    "    return retriever"
   ]
  },
  {
   "cell_type": "code",
   "execution_count": 10,
   "metadata": {},
   "outputs": [
    {
     "name": "stdout",
     "output_type": "stream",
     "text": [
      "Started parsing the file under job_id 77fd3484-b22d-4045-b48d-2bbb73806d45\n",
      "CPU times: user 2min 7s, sys: 32.1 s, total: 2min 40s\n",
      "Wall time: 38.1 s\n"
     ]
    }
   ],
   "source": [
    "%%time\n",
    "FAISS_retriever = create_retriever(data_path)"
   ]
  },
  {
   "cell_type": "code",
   "execution_count": 11,
   "metadata": {},
   "outputs": [
    {
     "data": {
      "text/plain": [
       "VectorStoreRetriever(tags=['FAISS', 'HuggingFaceBgeEmbeddings'], vectorstore=<langchain_community.vectorstores.faiss.FAISS object at 0x7fccfe981cd0>, search_kwargs={'k': 2})"
      ]
     },
     "execution_count": 11,
     "metadata": {},
     "output_type": "execute_result"
    }
   ],
   "source": [
    "FAISS_retriever"
   ]
  },
  {
   "cell_type": "code",
   "execution_count": null,
   "metadata": {},
   "outputs": [],
   "source": []
  }
 ],
 "metadata": {
  "kernelspec": {
   "display_name": "chromagroq",
   "language": "python",
   "name": "python3"
  },
  "language_info": {
   "codemirror_mode": {
    "name": "ipython",
    "version": 3
   },
   "file_extension": ".py",
   "mimetype": "text/x-python",
   "name": "python",
   "nbconvert_exporter": "python",
   "pygments_lexer": "ipython3",
   "version": "3.11.9"
  }
 },
 "nbformat": 4,
 "nbformat_minor": 2
}
